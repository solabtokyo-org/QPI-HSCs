{
 "cells": [
  {
   "cell_type": "code",
   "execution_count": 58,
   "id": "e55d4a8f-6059-4285-9032-9679865a25a9",
   "metadata": {
    "tags": []
   },
   "outputs": [],
   "source": [
    "import numpy as np\n",
    "import matplotlib.pyplot as plt\n",
    "import pyclesperanto_prototype as cle\n",
    "import pandas as pd\n",
    "from tqdm import tqdm\n",
    "import seaborn as sns\n",
    "import scipy.ndimage as ndimage\n"
   ]
  },
  {
   "cell_type": "code",
   "execution_count": 80,
   "id": "0f5099fc-c69c-4286-83b2-c282c6cd8007",
   "metadata": {
    "tags": []
   },
   "outputs": [],
   "source": [
    "s_n=11\n",
    "B2=np.load(f\"B{s_n}_analyze.npy\")[:,:]\n",
    "B2_label=np.load(f\"B{s_n}_label_fin.npy\")[:,:]\n",
    "df=pd.read_csv(f\"./B{s_n}_full.csv\")"
   ]
  },
  {
   "cell_type": "code",
   "execution_count": 81,
   "id": "0ac937cc-fd75-4d03-9f52-09ab2407c84d",
   "metadata": {
    "tags": []
   },
   "outputs": [
    {
     "data": {
      "text/plain": [
       "(800, 1080, 1080, 2)"
      ]
     },
     "execution_count": 81,
     "metadata": {},
     "output_type": "execute_result"
    }
   ],
   "source": [
    "B2.shape"
   ]
  },
  {
   "cell_type": "code",
   "execution_count": 82,
   "id": "210223d9-8068-4ae8-a7f6-44f985f1dee3",
   "metadata": {
    "tags": []
   },
   "outputs": [],
   "source": [
    "B2_label=np.load(f\"B{s_n}_label_fin.npy\")[:,:]"
   ]
  },
  {
   "cell_type": "code",
   "execution_count": 83,
   "id": "f34571cb-78a2-4fb4-87ae-473fdeb29a99",
   "metadata": {},
   "outputs": [],
   "source": [
    "df=pd.read_csv(f\"./B{s_n}_full.csv\")"
   ]
  },
  {
   "cell_type": "code",
   "execution_count": 84,
   "id": "98636b57-f998-4ce3-9fd9-16b53c3f1ac6",
   "metadata": {
    "tags": []
   },
   "outputs": [],
   "source": [
    "time=5\n",
    "for ID in range(len(np.unique(df[\"Tracking ID\"]))):\n",
    "#for ID in range(df[\"\"])\n",
    "    t_df=df[df[\"Tracking ID\"]==ID+1]\n",
    "    if len(t_df)>time:\n",
    "        for spilit_n in range(len(t_df)//time):\n",
    "            alert=False\n",
    "            t_df=t_df[t_df[\"Frame\"]>spilit_n*time]\n",
    "            x0=int(t_df[\"Pixel Position X (pixels)\"].iloc[0]*1.87)\n",
    "            y0=int(t_df[\"Pixel Position Y (pixels)\"].iloc[0]*1.87)\n",
    "            if (50<x0<B2.shape[2]-50)&((50<y0<B2.shape[1]-50)):\n",
    "            \n",
    "                alert=False\n",
    "                img_l=np.zeros((time,100,100,B2.shape[-1]))\n",
    "                for t in range(time):\n",
    "                    x=int(t_df[\"Pixel Position X (pixels)\"].iloc[t]*1.87)\n",
    "                    y=int(t_df[\"Pixel Position Y (pixels)\"].iloc[t]*1.87)\n",
    "                    n=np.max(B2_label[t_df[\"Frame\"].iloc[t]-1,y-5:y+5,x-5:x+5])\n",
    "                    if n>0:\n",
    "\n",
    "                        mask=B2_label[t_df[\"Frame\"].iloc[t]-1,y0-50:y0+50,x0-50:x0+50]\n",
    "                        mask[~(mask==n)]=0\n",
    "                        mask=ndimage.binary_opening(mask, structure=np.ones((3, 3)))\n",
    "                        for ch in range(B2.shape[-1]):\n",
    "                            img=B2[t_df[\"Frame\"].iloc[t]-1,y0-50:y0+50,x0-50:x0+50,ch]\n",
    "                            img_l[t,:,:,ch]=mask*img\n",
    "                    else:\n",
    "                        alert=True\n",
    "                if alert==False:\n",
    "                    np.save(f\"./train_move_{time}/B{s_n}_ID_{ID+1}_n_{spilit_n+1}.npy\",img_l)\n",
    "\n",
    "       \n"
   ]
  },
  {
   "cell_type": "code",
   "execution_count": 88,
   "id": "0e4ba628-16a1-49c1-92e5-daa073143305",
   "metadata": {
    "tags": []
   },
   "outputs": [
    {
     "name": "stderr",
     "output_type": "stream",
     "text": [
      "/var/folders/gv/77cbmplx37x0s09dxxfc_zvm0000gn/T/ipykernel_43203/851080130.py:4: DtypeWarning: Columns (15) have mixed types. Specify dtype option on import or set low_memory=False.\n",
      "  df=pd.read_csv(f\"./B{s_n}_full.csv\")\n"
     ]
    }
   ],
   "source": [
    "s_n=6\n",
    "B2=np.load(f\"B{s_n}_analyze.npy\")[:,:]\n",
    "B2_label=np.load(f\"B{s_n}_label_fin.npy\")[:,:]\n",
    "df=pd.read_csv(f\"./B{s_n}_full.csv\")\n",
    "\n",
    "\n",
    "time=10\n",
    "for ID in range(len(np.unique(df[\"Tracking ID\"]))):\n",
    "#for ID in range(df[\"\"])\n",
    "    t_df=df[df[\"Tracking ID\"]==ID+1]\n",
    "    if len(t_df)>time:\n",
    "        for spilit_n in range(len(t_df)//time):\n",
    "            alert=False\n",
    "            t_df=t_df[t_df[\"Frame\"]>spilit_n*time]\n",
    "            x0=int(t_df[\"Pixel Position X (pixels)\"].iloc[0]*1.87)\n",
    "            y0=int(t_df[\"Pixel Position Y (pixels)\"].iloc[0]*1.87)\n",
    "            if (50<x0<B2.shape[2]-50)&((50<y0<B2.shape[1]-50)):\n",
    "            \n",
    "                alert=False\n",
    "                img_l=np.zeros((time,100,100,B2.shape[-1]))\n",
    "                for t in range(time):\n",
    "                    x=int(t_df[\"Pixel Position X (pixels)\"].iloc[t]*1.87)\n",
    "                    y=int(t_df[\"Pixel Position Y (pixels)\"].iloc[t]*1.87)\n",
    "                    n=np.max(B2_label[t_df[\"Frame\"].iloc[t]-1,y-5:y+5,x-5:x+5])\n",
    "                    if n>0:\n",
    "\n",
    "                        mask=B2_label[t_df[\"Frame\"].iloc[t]-1,y-50:y+50,x-50:x+50]\n",
    "                        mask[~(mask==n)]=0\n",
    "                        mask=ndimage.binary_opening(mask, structure=np.ones((3, 3)))\n",
    "                        for ch in range(B2.shape[-1]):\n",
    "                            img=B2[t_df[\"Frame\"].iloc[t]-1,y-50:y+50,x-50:x+50,ch]\n",
    "                            img_l[t,:,:,ch]=mask*img\n",
    "                    else:\n",
    "                        alert=True\n",
    "                if alert==False:\n",
    "                    np.save(f\"./train_array_{time}/B{s_n}_ID_{ID+1}_n_{spilit_n+1}.npy\",img_l)\n",
    "\n",
    "       \n"
   ]
  },
  {
   "cell_type": "code",
   "execution_count": 89,
   "id": "18062e38-12e5-4d18-8103-9af8b4b34c94",
   "metadata": {
    "tags": []
   },
   "outputs": [],
   "source": [
    "s_n=4\n",
    "B2=np.load(f\"B{s_n}_analyze.npy\")[:,:]\n",
    "B2_label=np.load(f\"B{s_n}_label_fin.npy\")[:,:]\n",
    "df=pd.read_csv(f\"./B{s_n}_full.csv\")\n",
    "\n",
    "\n",
    "time=10\n",
    "for ID in range(len(np.unique(df[\"Tracking ID\"]))):\n",
    "#for ID in range(df[\"\"])\n",
    "    t_df=df[df[\"Tracking ID\"]==ID+1]\n",
    "    if len(t_df)>time:\n",
    "        for spilit_n in range(len(t_df)//time):\n",
    "            alert=False\n",
    "            t_df=t_df[t_df[\"Frame\"]>spilit_n*time]\n",
    "            x0=int(t_df[\"Pixel Position X (pixels)\"].iloc[0]*1.87)\n",
    "            y0=int(t_df[\"Pixel Position Y (pixels)\"].iloc[0]*1.87)\n",
    "            if (50<x0<B2.shape[2]-50)&((50<y0<B2.shape[1]-50)):\n",
    "            \n",
    "                alert=False\n",
    "                img_l=np.zeros((time,100,100,B2.shape[-1]))\n",
    "                for t in range(time):\n",
    "                    x=int(t_df[\"Pixel Position X (pixels)\"].iloc[t]*1.87)\n",
    "                    y=int(t_df[\"Pixel Position Y (pixels)\"].iloc[t]*1.87)\n",
    "                    n=np.max(B2_label[t_df[\"Frame\"].iloc[t]-1,y-5:y+5,x-5:x+5])\n",
    "                    if n>0:\n",
    "\n",
    "                        mask=B2_label[t_df[\"Frame\"].iloc[t]-1,y-50:y+50,x-50:x+50]\n",
    "                        mask[~(mask==n)]=0\n",
    "                        mask=ndimage.binary_opening(mask, structure=np.ones((3, 3)))\n",
    "                        for ch in range(B2.shape[-1]):\n",
    "                            img=B2[t_df[\"Frame\"].iloc[t]-1,y-50:y+50,x-50:x+50,ch]\n",
    "                            img_l[t,:,:,ch]=mask*img\n",
    "                    else:\n",
    "                        alert=True\n",
    "                if alert==False:\n",
    "                    np.save(f\"./train_array_{time}/B{s_n}_ID_{ID+1}_n_{spilit_n+1}.npy\",img_l)\n",
    "\n",
    "       \n"
   ]
  },
  {
   "cell_type": "code",
   "execution_count": 90,
   "id": "918e9e0d-0feb-4111-b636-2fb88f447759",
   "metadata": {
    "tags": []
   },
   "outputs": [],
   "source": [
    "s_n=2\n",
    "B2=np.load(f\"B{s_n}_analyze.npy\")[:,:]\n",
    "B2_label=np.load(f\"B{s_n}_label_fin.npy\")[:,:]\n",
    "df=pd.read_csv(f\"./B{s_n}_full.csv\")\n",
    "\n",
    "\n",
    "time=10\n",
    "for ID in range(len(np.unique(df[\"Tracking ID\"]))):\n",
    "#for ID in range(df[\"\"])\n",
    "    t_df=df[df[\"Tracking ID\"]==ID+1]\n",
    "    if len(t_df)>time:\n",
    "        for spilit_n in range(len(t_df)//time):\n",
    "            alert=False\n",
    "            t_df=t_df[t_df[\"Frame\"]>spilit_n*time]\n",
    "            x0=int(t_df[\"Pixel Position X (pixels)\"].iloc[0]*1.87)\n",
    "            y0=int(t_df[\"Pixel Position Y (pixels)\"].iloc[0]*1.87)\n",
    "            if (50<x0<B2.shape[2]-50)&((50<y0<B2.shape[1]-50)):\n",
    "            \n",
    "                alert=False\n",
    "                img_l=np.zeros((time,100,100,B2.shape[-1]))\n",
    "                for t in range(time):\n",
    "                    x=int(t_df[\"Pixel Position X (pixels)\"].iloc[t]*1.87)\n",
    "                    y=int(t_df[\"Pixel Position Y (pixels)\"].iloc[t]*1.87)\n",
    "                    n=np.max(B2_label[t_df[\"Frame\"].iloc[t]-1,y-5:y+5,x-5:x+5])\n",
    "                    if n>0:\n",
    "\n",
    "                        mask=B2_label[t_df[\"Frame\"].iloc[t]-1,y-50:y+50,x-50:x+50]\n",
    "                        mask[~(mask==n)]=0\n",
    "                        mask=ndimage.binary_opening(mask, structure=np.ones((3, 3)))\n",
    "                        for ch in range(B2.shape[-1]):\n",
    "                            img=B2[t_df[\"Frame\"].iloc[t]-1,y-50:y+50,x-50:x+50,ch]\n",
    "                            img_l[t,:,:,ch]=mask*img\n",
    "                    else:\n",
    "                        alert=True\n",
    "                if alert==False:\n",
    "                    np.save(f\"./train_array_{time}/B{s_n}_ID_{ID+1}_n_{spilit_n+1}.npy\",img_l)\n",
    "\n",
    "       \n"
   ]
  },
  {
   "cell_type": "code",
   "execution_count": 91,
   "id": "82c2e7a6-c1dd-4909-8ece-1fcb7c51c96c",
   "metadata": {
    "tags": []
   },
   "outputs": [
    {
     "name": "stderr",
     "output_type": "stream",
     "text": [
      "/var/folders/gv/77cbmplx37x0s09dxxfc_zvm0000gn/T/ipykernel_43203/2445806995.py:6: DtypeWarning: Columns (15) have mixed types. Specify dtype option on import or set low_memory=False.\n",
      "  df=pd.read_csv(f\"./B{s_n}_full.csv\")\n"
     ]
    }
   ],
   "source": [
    "time=5\n",
    "\n",
    "for s_n in [2,4,6,11]:\n",
    "    B2=np.load(f\"B{s_n}_analyze.npy\")[:,:]\n",
    "    B2_label=np.load(f\"B{s_n}_label_fin.npy\")[:,:]\n",
    "    df=pd.read_csv(f\"./B{s_n}_full.csv\")\n",
    "\n",
    "\n",
    " \n",
    "    for ID in range(len(np.unique(df[\"Tracking ID\"]))):\n",
    "    #for ID in range(df[\"\"])\n",
    "        t_df=df[df[\"Tracking ID\"]==ID+1]\n",
    "        if len(t_df)>time:\n",
    "            for spilit_n in range(len(t_df)//time):\n",
    "                alert=False\n",
    "                t_df=t_df[t_df[\"Frame\"]>spilit_n*time]\n",
    "                x0=int(t_df[\"Pixel Position X (pixels)\"].iloc[0]*1.87)\n",
    "                y0=int(t_df[\"Pixel Position Y (pixels)\"].iloc[0]*1.87)\n",
    "                if (50<x0<B2.shape[2]-50)&((50<y0<B2.shape[1]-50)):\n",
    "\n",
    "                    alert=False\n",
    "                    img_l=np.zeros((time,100,100,B2.shape[-1]))\n",
    "                    for t in range(time):\n",
    "                        x=int(t_df[\"Pixel Position X (pixels)\"].iloc[t]*1.87)\n",
    "                        y=int(t_df[\"Pixel Position Y (pixels)\"].iloc[t]*1.87)\n",
    "                        n=np.max(B2_label[t_df[\"Frame\"].iloc[t]-1,y-5:y+5,x-5:x+5])\n",
    "                        if n>0:\n",
    "\n",
    "                            mask=B2_label[t_df[\"Frame\"].iloc[t]-1,y-50:y+50,x-50:x+50]\n",
    "                            mask[~(mask==n)]=0\n",
    "                            mask=ndimage.binary_opening(mask, structure=np.ones((3, 3)))\n",
    "                            for ch in range(B2.shape[-1]):\n",
    "                                img=B2[t_df[\"Frame\"].iloc[t]-1,y-50:y+50,x-50:x+50,ch]\n",
    "                                img_l[t,:,:,ch]=mask*img\n",
    "                        else:\n",
    "                            alert=True\n",
    "                    if alert==False:\n",
    "                        np.save(f\"./train_array_{time}/B{s_n}_ID_{ID+1}_n_{spilit_n+1}.npy\",img_l)\n",
    "\n",
    "       \n"
   ]
  },
  {
   "cell_type": "code",
   "execution_count": null,
   "id": "150e1c03-2e73-422f-b650-e583c2963c2c",
   "metadata": {},
   "outputs": [],
   "source": [
    "train_img=np.concatenate([np.load(\"./img_B2.npy\"),np.load(\"./img_B4.npy\"),np.load(\"./img_B6.npy\")])\n",
    "np.save(f\"train_img.npy\",train_img)"
   ]
  },
  {
   "cell_type": "code",
   "execution_count": null,
   "id": "4437d756-6fba-4c84-8cf6-8eaacdd5f6e0",
   "metadata": {},
   "outputs": [],
   "source": [
    "alert=False\n",
    "for ID in range(500):\n",
    "#for ID in range(df[\"\"])\n",
    "    t_df=df[df[\"Tracking ID\"]==ID+1]\n",
    "    for k in range(len(t_df)//10):\n",
    "        if (len(t_df)>10):\n",
    "            x=int(t_df[\"Pixel Position X (pixels)\"].iloc[0]*1.87)\n",
    "            y=int(t_df[\"Pixel Position Y (pixels)\"].iloc[0]*1.87)\n",
    "            n=np.max(B2_label[t_df[\"Frame\"].iloc[0]-1,y-2:y+2,x-2:x+2])\n",
    "            alert=False\n",
    "            if n>0:\n",
    "                plt.figure(figsize=(10,5))\n",
    "                for i in range(10):\n",
    "                    plt.subplot(2,5,i+1)\n",
    "                    x=int(t_df[\"Pixel Position X (pixels)\"].iloc[i]*1.87)\n",
    "                    y=int(t_df[\"Pixel Position Y (pixels)\"].iloc[i]*1.87)\n",
    "                    n=np.max(B2_label[t_df[\"Frame\"].iloc[i]-1,y-5:y+5,x-5:x+5])\n",
    "\n",
    "                    mask=B2_label[t_df[\"Frame\"].iloc[i]-1,y-50:y+50,x-50:x+50]\n",
    "                    mask[~(mask==n)]=0\n",
    "                    mask=ndimage.binary_opening(mask, structure=np.ones((3, 3)))\n",
    "                    plt.title(f\"N={n}_ID={ID+1}\")\n",
    "                    #if n >0:\n",
    "                        #plt.title(f\"N={n}\")\n",
    "\n",
    "                        #mask=B2[i,y-50:y+50,x-50:x+50,0]\n",
    "                    img=B2[t_df[\"Frame\"].iloc[i]-1,y-50:y+50,x-50:x+50,0]\n",
    "\n",
    "                    plt.imshow(mask*img)\n",
    "\n",
    "                    plt.scatter(50,50,alpha=0.5,c=\"None\",edgecolor=\"white\",s=50)\n",
    "                    plt.xticks([])\n",
    "                    plt.yticks([])\n",
    "                else:\n",
    "                    alert=True\n",
    "\n",
    "        plt.show()\n"
   ]
  },
  {
   "cell_type": "code",
   "execution_count": null,
   "id": "79125039-0ea8-497a-b402-f34e605e46cc",
   "metadata": {
    "tags": []
   },
   "outputs": [],
   "source": [
    "alert=False\n",
    "for ID in range(500):\n",
    "#for ID in range(df[\"\"])\n",
    "    t_df=df[df[\"Tracking ID\"]==ID+1]\n",
    "    for k in range(len(t))\n",
    "    if (len(t_df)>10):\n",
    "        x=int(t_df[\"Pixel Position X (pixels)\"].iloc[0]*1.87)\n",
    "        y=int(t_df[\"Pixel Position Y (pixels)\"].iloc[0]*1.87)\n",
    "        n=np.max(B2_label[t_df[\"Frame\"].iloc[0]-1,y-2:y+2,x-2:x+2])\n",
    "        alert=False\n",
    "        if n>0:\n",
    "            plt.figure(figsize=(10,5))\n",
    "            for i in range(10):\n",
    "                plt.subplot(2,5,i+1)\n",
    "                x=int(t_df[\"Pixel Position X (pixels)\"].iloc[i]*1.87)\n",
    "                y=int(t_df[\"Pixel Position Y (pixels)\"].iloc[i]*1.87)\n",
    "                n=np.max(B2_label[t_df[\"Frame\"].iloc[i]-1,y-5:y+5,x-5:x+5])\n",
    "\n",
    "                mask=B2_label[t_df[\"Frame\"].iloc[i]-1,y-50:y+50,x-50:x+50]\n",
    "                mask[~(mask==n)]=0\n",
    "                mask=ndimage.binary_opening(mask, structure=np.ones((3, 3)))\n",
    "                plt.title(f\"N={n}_ID={ID+1}\")\n",
    "                #if n >0:\n",
    "                    #plt.title(f\"N={n}\")\n",
    "\n",
    "                    #mask=B2[i,y-50:y+50,x-50:x+50,0]\n",
    "                img=B2[t_df[\"Frame\"].iloc[i]-1,y-50:y+50,x-50:x+50,0]\n",
    "\n",
    "                plt.imshow(mask*img)\n",
    "\n",
    "                plt.scatter(50,50,alpha=0.5,c=\"None\",edgecolor=\"white\",s=50)\n",
    "                plt.xticks([])\n",
    "                plt.yticks([])\n",
    "            else:\n"
   ]
  },
  {
   "cell_type": "code",
   "execution_count": null,
   "id": "e0470768-5aeb-4d7d-a1c4-fa5b78b6b8c8",
   "metadata": {
    "tags": []
   },
   "outputs": [],
   "source": [
    "for i in tqdm(range(len(np.unique(df[\"particle\"])))):\n",
    "    ID=np.unique(df[\"particle\"])[i]\n",
    "    t_df=df[df[\"particle\"]==ID]\n",
    "    for s in range(len(t_df)//30):\n",
    "        tracking_array=np.zeros((30,100,100,2))\n",
    "        for j in range(tracking_array.shape[0]):\n",
    "            temp_df=t_df[t_df[\"frame\"]>=t_df[\"frame\"].iloc[30*s]]\n",
    "            mask=np.ones((B2.shape[1],B2.shape[2]))\n",
    "            x=int(t_df[\"x\"].iloc[j])\n",
    "            y=int(t_df[\"y\"].iloc[j])\n",
    "            n=np.max(B2_label[t_df[\"frame\"].iloc[j],y-2:y+2,x-2:x+2])\n",
    "            if n>0:\n",
    "                mask=B2_label[t_df[\"frame\"].iloc[j],y-50:y+50,x-50:x+50]\n",
    "                mask[~(mask==n)]=0\n",
    "                \n",
    "                \n",
    "                if np.sum(mask)>20:\n",
    "                    for k in range(2):\n",
    "                        img=B2[t_df[\"frame\"].iloc[j],y-50:y+50,x-50:x+50,k]\n",
    "                        tracking_array[j,:,:,k]=(mask*img)\n",
    "        if (np.max(tracking_array)>0):\n",
    "            np.save(f\"./train_array_10/B2_Tracking_ID_{ID}_{s}.npy\",tracking_array[:])      \n",
    "        \n",
    "        "
   ]
  },
  {
   "cell_type": "code",
   "execution_count": null,
   "id": "95ce6b82-0813-4546-a00e-11e6b43db625",
   "metadata": {
    "tags": []
   },
   "outputs": [],
   "source": [
    "plt.figure(figsize=(12,12))\n",
    "for i in range(30):\n",
    "    plt.subplot(5,6,1+i)\n",
    "    n=np.max(B2_label[t_df[\"frame\"].iloc[i],y-2:y+2,x-2:x+2])\n",
    "    plt.title(f\"N={n}\")\n",
    "    x=int(t_df[\"x\"].iloc[i])\n",
    "    y=int(t_df[\"y\"].iloc[i])\n",
    "    mask=B2_label[t_df[\"frame\"].iloc[i],y-50:y+50,x-50:x+50]\n",
    "    img=B2[t_df[\"frame\"].iloc[i],y-50:y+50,x-50:x+50,0]\n",
    "    \n",
    "    plt.imshow(mask)\n",
    "\n",
    "    plt.scatter(50,50,c=\"white\",alpha=0.5)\n",
    "    plt.xticks([])\n",
    "    plt.yticks([])\n",
    "    "
   ]
  },
  {
   "cell_type": "code",
   "execution_count": null,
   "id": "a3eb9f51-a792-4c15-9a73-0a6893e6d7d1",
   "metadata": {
    "tags": []
   },
   "outputs": [],
   "source": [
    "n=2000\n",
    "plt.figure(figsize=(12,12))\n",
    "\n",
    "t_df=df[df[\"frame\"]==n]\n",
    "plt.imshow((B2[n,:,:,0]))\n",
    "plt.scatter(t_df[\"x\"],t_df[\"y\"],c=\"white\",alpha=0.5)\n",
    "plt.xticks([])\n",
    "plt.yticks([])"
   ]
  },
  {
   "cell_type": "code",
   "execution_count": null,
   "id": "94b702c2-1af7-40e7-9c42-892eb076ce14",
   "metadata": {},
   "outputs": [],
   "source": []
  },
  {
   "cell_type": "code",
   "execution_count": null,
   "id": "b5972301-50ff-42bf-87ea-69b92932ddb5",
   "metadata": {},
   "outputs": [],
   "source": []
  },
  {
   "cell_type": "code",
   "execution_count": null,
   "id": "a81fc77c-9270-4f98-96fa-51cad1e020db",
   "metadata": {
    "tags": []
   },
   "outputs": [],
   "source": [
    "n=2000\n",
    "plt.figure(figsize=(12,12))\n",
    "\n",
    "t_df=df[df[\"frame\"]==n]\n",
    "plt.imshow((B2[n,:,:,0]))\n",
    "plt.scatter(t_df[\"x\"],t_df[\"y\"],c=\"white\",alpha=0.5)\n",
    "plt.xticks([])\n",
    "plt.yticks([])"
   ]
  },
  {
   "cell_type": "code",
   "execution_count": null,
   "id": "6c758c1f-8d3c-4532-87e1-026325f9b05d",
   "metadata": {
    "tags": []
   },
   "outputs": [],
   "source": [
    "np.max(B2)"
   ]
  },
  {
   "cell_type": "code",
   "execution_count": null,
   "id": "3596e9da-af89-4fe5-8ccc-8eb7c9d7dbb3",
   "metadata": {
    "tags": []
   },
   "outputs": [],
   "source": [
    "(B2[1000,420:500,0])"
   ]
  },
  {
   "cell_type": "code",
   "execution_count": null,
   "id": "50052438-3aaa-45ce-ae05-655fbd7b9d55",
   "metadata": {
    "tags": []
   },
   "outputs": [],
   "source": [
    "df=pd.read_csv(\"./B2_full.csv\")"
   ]
  },
  {
   "cell_type": "code",
   "execution_count": null,
   "id": "59ee5a30-99ca-4627-9bfb-c0e713057f6c",
   "metadata": {
    "tags": []
   },
   "outputs": [],
   "source": [
    "df=df[(df[\"Dry Mass (pg)\"]>30)]"
   ]
  },
  {
   "cell_type": "code",
   "execution_count": null,
   "id": "0c064072-26b8-4256-8ed7-98fc03450152",
   "metadata": {
    "tags": []
   },
   "outputs": [],
   "source": [
    "df.head()"
   ]
  },
  {
   "cell_type": "code",
   "execution_count": null,
   "id": "e915fd50-2bcb-4426-9bd6-661a167dbd5a",
   "metadata": {
    "tags": []
   },
   "outputs": [],
   "source": [
    "B2_label=np.load(\"B2_label.npy\")"
   ]
  },
  {
   "cell_type": "code",
   "execution_count": null,
   "id": "0d5bddf9-9ad4-4450-bffb-e44b53324c25",
   "metadata": {
    "tags": []
   },
   "outputs": [],
   "source": [
    "temp_df"
   ]
  },
  {
   "cell_type": "code",
   "execution_count": null,
   "id": "3a817551-5284-494d-8dc7-373aefca4500",
   "metadata": {
    "tags": []
   },
   "outputs": [],
   "source": [
    "B2=np.load(\"B2.npy\")[:,:,420:1500]"
   ]
  },
  {
   "cell_type": "code",
   "execution_count": null,
   "id": "ac1f2599-9d86-477f-8a39-5286cc836052",
   "metadata": {
    "tags": []
   },
   "outputs": [],
   "source": [
    "B2_label[j+1].shape"
   ]
  },
  {
   "cell_type": "code",
   "execution_count": null,
   "id": "327a8032-5a14-4b79-9fb9-ebdd042c906e",
   "metadata": {
    "tags": []
   },
   "outputs": [],
   "source": [
    "\n",
    "t_df=df[df[\"Frame\"]==1]\n",
    "t_df"
   ]
  },
  {
   "cell_type": "code",
   "execution_count": null,
   "id": "cf897d73-8f0a-41d4-bc98-e4255dbf3875",
   "metadata": {
    "tags": []
   },
   "outputs": [],
   "source": [
    "plt.imshow(B2[:,420:,0])\n",
    "plt.scatter(t_df[\"Pixel Position Y (pixels)\"],t_df[\"Pixel Position X (pixels)\"],c=\"white\",alpha=0.5)\n",
    "plt.xlim(0,200)\n",
    "plt.ylim(0,200)"
   ]
  },
  {
   "cell_type": "code",
   "execution_count": null,
   "id": "6405c6aa-fe98-442d-b651-2e6e43b3db14",
   "metadata": {
    "tags": []
   },
   "outputs": [],
   "source": [
    "B2.shape"
   ]
  },
  {
   "cell_type": "code",
   "execution_count": null,
   "id": "993fac0c-ec50-46c6-9fd1-257fd449ef88",
   "metadata": {
    "tags": []
   },
   "outputs": [],
   "source": [
    "B2_label=np.load(\"B2_label.npy\")"
   ]
  },
  {
   "cell_type": "code",
   "execution_count": null,
   "id": "4971c80f-479c-467a-9103-e7190694688f",
   "metadata": {
    "tags": []
   },
   "outputs": [],
   "source": [
    "B2_label.shape"
   ]
  },
  {
   "cell_type": "code",
   "execution_count": null,
   "id": "0d3dc63e-fb13-4c10-b4e3-52c5e6f7fe11",
   "metadata": {
    "tags": []
   },
   "outputs": [],
   "source": [
    "(B2_label[j+1]==n).shape"
   ]
  },
  {
   "cell_type": "code",
   "execution_count": null,
   "id": "fc97f00d-31a7-4122-b684-9ba097c315b5",
   "metadata": {
    "tags": []
   },
   "outputs": [],
   "source": [
    "#B2_label=np.load(\"B2_label.npy\")\n",
    "#B2=np.load(\"B2.npy\")[:,:,500:1500]\n",
    "for i in range(len(np.unique(df[\"Tracking ID\"]))):\n",
    "    t_df=df[df[\"Tracking ID\"]==np.unique(df[\"Tracking ID\"])[i]]\n",
    "    tracking_array=np.zeros((len(t_df),B2.shape[1],B2.shape[2]))\n",
    "    j=0\n",
    "  \n",
    "    #temp_df=t_df[t_df[\"Frame\"]==j+1]\n",
    "    #img=B2_phase[j+1]\n",
    "    mask=np.ones((B2.shape[1],B2.shape[2]))\n",
    "    x=int(t_df[\"Pixel Position X (pixels)\"].iloc[j]*1.87)\n",
    "    y=int(t_df[\"Pixel Position Y (pixels)\"].iloc[j]*1.87)\n",
    "   \n",
    "    n=B2_label[t_df[\"Frame\"].iloc[j]-1,y,x]\n",
    "    if n>0:\n",
    "        mask[~(B2_label[j+1]==n)]=0\n",
    "        plt.imshow(mask)\n",
    "        plt.show()\n",
    "    \n",
    "        \n",
    "        \n",
    "        "
   ]
  },
  {
   "cell_type": "code",
   "execution_count": null,
   "id": "3ec1684f-cf82-42c8-9690-e8743b61bc90",
   "metadata": {
    "tags": []
   },
   "outputs": [],
   "source": [
    "df"
   ]
  },
  {
   "cell_type": "code",
   "execution_count": null,
   "id": "c004cdc8-e214-49bd-8657-dbc7c54424f2",
   "metadata": {
    "tags": []
   },
   "outputs": [],
   "source": [
    "x0"
   ]
  },
  {
   "cell_type": "code",
   "execution_count": null,
   "id": "2c3fe22b-de58-4892-923f-b02699e28675",
   "metadata": {
    "tags": []
   },
   "outputs": [],
   "source": [
    "x"
   ]
  },
  {
   "cell_type": "code",
   "execution_count": null,
   "id": "78e21453-2e93-41bf-835e-372ed83089e5",
   "metadata": {
    "tags": []
   },
   "outputs": [],
   "source": [
    "t_df"
   ]
  },
  {
   "cell_type": "code",
   "execution_count": null,
   "id": "a4d338e5-1fff-4658-86a4-b36de1def89c",
   "metadata": {
    "tags": []
   },
   "outputs": [],
   "source": [
    "(mask*B2[t_df[\"Frame\"].iloc[j]-1,:,:,k]).shape"
   ]
  },
  {
   "cell_type": "code",
   "execution_count": null,
   "id": "f5e08d65-5424-4dc4-8352-5f6a5ae734d2",
   "metadata": {
    "tags": []
   },
   "outputs": [],
   "source": [
    "plt.imshow(mask*B2[t_df[\"Frame\"].iloc[j]-1,:,:,k])"
   ]
  },
  {
   "cell_type": "code",
   "execution_count": null,
   "id": "664a1905-cbfa-4422-a614-b67dd6beefee",
   "metadata": {
    "tags": []
   },
   "outputs": [],
   "source": [
    "temp_df"
   ]
  },
  {
   "cell_type": "code",
   "execution_count": null,
   "id": "c579541b-4610-4c47-8659-7ff4dab58810",
   "metadata": {
    "tags": []
   },
   "outputs": [],
   "source": [
    "t_df"
   ]
  },
  {
   "cell_type": "code",
   "execution_count": null,
   "id": "ea94724d-846e-444e-9f55-f11754f09d20",
   "metadata": {
    "tags": []
   },
   "outputs": [],
   "source": [
    "temp_df"
   ]
  },
  {
   "cell_type": "code",
   "execution_count": null,
   "id": "1632c6a4-8d0f-490d-8145-1755056d4b14",
   "metadata": {
    "tags": []
   },
   "outputs": [],
   "source": [
    "len(temp_df[\"Pixel Position X (pixels)\"])"
   ]
  },
  {
   "cell_type": "code",
   "execution_count": null,
   "id": "ade3dd54-860a-4463-bfcd-5b3d59a57328",
   "metadata": {
    "tags": []
   },
   "outputs": [],
   "source": [
    "t_df[\"Frame\"]"
   ]
  },
  {
   "cell_type": "code",
   "execution_count": null,
   "id": "8b8605f9-ba0c-4b3c-b49b-91278a8156cd",
   "metadata": {
    "tags": []
   },
   "outputs": [],
   "source": [
    "len(t_df)//30"
   ]
  },
  {
   "cell_type": "code",
   "execution_count": null,
   "id": "599c2aa7-0007-4b69-a7e8-0c0dbf31a5bf",
   "metadata": {
    "tags": []
   },
   "outputs": [],
   "source": [
    "temp_df"
   ]
  },
  {
   "cell_type": "code",
   "execution_count": null,
   "id": "996c788c-1fbb-440b-9997-cbe03878af17",
   "metadata": {
    "tags": []
   },
   "outputs": [],
   "source": [
    "30*s+j"
   ]
  },
  {
   "cell_type": "code",
   "execution_count": null,
   "id": "85ecdda1-7c68-4d9f-a6c6-e2c7b79eeb20",
   "metadata": {},
   "outputs": [],
   "source": [
    "for i in tqdm(range(len(np.unique(df[\"Tracking ID\"])))):\n",
    "    ID=np.unique(df[\"Tracking ID\"])[i]\n",
    "    t_df=df[df[\"Tracking ID\"]==ID]\n",
    "    for s in range(len(t_df)//30):\n",
    "        tracking_array=np.zeros((30,100,100,2))\n",
    "        for j in range(tracking_array.shape[0]):\n",
    "            temp_df=t_df[t_df[\"Frame\"]>=t_df[\"Frame\"].iloc[30*s]]\n",
    "            mask=np.ones((B2.shape[1],B2.shape[2]))\n",
    "            x=int(temp_df[\"Pixel Position X (pixels)\"].iloc[j]*1.87)\n",
    "            y=int(temp_df[\"Pixel Position Y (pixels)\"].iloc[j]*1.87)\n",
    "\n",
    "            n=B2_label[temp_df[\"Frame\"].iloc[j]-1,y,x]\n",
    "            if n>0:\n",
    "                mask[~(B2_label[30*s+j+1]==n)]=0\n",
    "                if np.sum(mask)>20:\n",
    "                    for k in range(2):\n",
    "                        tracking_array[j,:,:,k]=(mask*B2[temp_df[\"Frame\"].iloc[j],:,:,k])[y-50:y+50,x-50:x+50]\n",
    "        if (np.max(tracking_array)>0):\n",
    "            np.save(f\"./train_array/B2_Tracking_ID_{ID}_{s}.npy\",tracking_array[:])      \n",
    "        \n",
    "        "
   ]
  },
  {
   "cell_type": "code",
   "execution_count": null,
   "id": "fdd0058c-4db1-4504-a393-08aec2bc98e3",
   "metadata": {
    "tags": []
   },
   "outputs": [],
   "source": [
    "temp_df"
   ]
  },
  {
   "cell_type": "code",
   "execution_count": null,
   "id": "7bfc79bb-3b87-4fbd-885a-148c0adb18a3",
   "metadata": {},
   "outputs": [],
   "source": []
  },
  {
   "cell_type": "code",
   "execution_count": null,
   "id": "ddfd0176-ec8a-4023-b44c-b96ffa231837",
   "metadata": {
    "tags": []
   },
   "outputs": [],
   "source": [
    "for i in tqdm(range(len(np.unique(df[\"Tracking ID\"])))):\n",
    "    ID=np.unique(df[\"Tracking ID\"])[i]\n",
    "    t_df=df[df[\"Tracking ID\"]==ID]\n",
    "    \n",
    "    for s in range(len(t_df)//30):\n",
    "        tracking_array=np.zeros((30,100,100,2))\n",
    "        for j in range(tracking_array.shape[0]):\n",
    "            temp_df=t_df[t_df[\"Frame\"]>=t_df[\"Frame\"].iloc[30*s]]\n",
    "            x0=int(temp_df[\"Pixel Position X (pixels)\"].iloc[0]*1.87)\n",
    "            y0=int(temp_df[\"Pixel Position Y (pixels)\"].iloc[0]*1.87)\n",
    "            mask=np.ones((B2.shape[1],B2.shape[2]))\n",
    "            x=int(temp_df[\"Pixel Position X (pixels)\"].iloc[j]*1.87)\n",
    "            y=int(temp_df[\"Pixel Position Y (pixels)\"].iloc[j]*1.87)\n",
    "\n",
    "            n=B2_label[temp_df[\"Frame\"].iloc[j]-1,y,x]\n",
    "            if n>0:\n",
    "                mask[~(B2_label[temp_df[\"Frame\"].iloc[j]-1]==n)]=0\n",
    "                if np.sum(mask)>20:\n",
    "                    for k in range(2):\n",
    "                        tracking_array[j,:,:,k]=(mask*B2[temp_df[\"Frame\"].iloc[j]-1,:,:,k])[y0-50:y0+50,x0-50:x0+50]\n",
    "        if (np.max(tracking_array)>0):\n",
    "            np.save(f\"./train_move/B2_Tracking_ID_{ID}_{s}.npy\",tracking_array)      \n",
    "        \n",
    "        "
   ]
  },
  {
   "cell_type": "code",
   "execution_count": null,
   "id": "d849feec-f2c3-4180-baae-c14cb0cca31c",
   "metadata": {
    "tags": []
   },
   "outputs": [],
   "source": [
    "t_df"
   ]
  },
  {
   "cell_type": "code",
   "execution_count": null,
   "id": "0c371a56-10f2-4698-acb2-9f0e9a80572f",
   "metadata": {
    "tags": []
   },
   "outputs": [],
   "source": [
    "plt.imshow(np.max(tracking_array[:,:,:,0],axis=0))\n",
    "#plt.ylim([600,800])\n",
    "#plt.xlim([400,600])"
   ]
  },
  {
   "cell_type": "code",
   "execution_count": null,
   "id": "2285d271-0106-4e1f-96e4-79317d922c7b",
   "metadata": {
    "tags": []
   },
   "outputs": [],
   "source": [
    "B2.shape"
   ]
  },
  {
   "cell_type": "code",
   "execution_count": null,
   "id": "3542fc0a-d7e5-4e04-bb7a-d2696ff85aff",
   "metadata": {
    "tags": []
   },
   "outputs": [],
   "source": [
    "plt.imshow(B2[1000,:,:,0])"
   ]
  },
  {
   "cell_type": "code",
   "execution_count": null,
   "id": "ece955b7-067a-494d-8eb5-bb74f8feab5e",
   "metadata": {
    "tags": []
   },
   "outputs": [],
   "source": [
    "plt.imshow(B2[0,80:120,:,0])"
   ]
  },
  {
   "cell_type": "code",
   "execution_count": null,
   "id": "63bf38b2-6984-4e1d-8a9b-2d0f452d2963",
   "metadata": {
    "tags": []
   },
   "outputs": [],
   "source": [
    "sns.histplot(data=df,x=\"Pixel Position X (pixels)\")"
   ]
  },
  {
   "cell_type": "code",
   "execution_count": null,
   "id": "e8e67329-3251-43ef-8cc0-4d7e72e2a281",
   "metadata": {},
   "outputs": [],
   "source": []
  }
 ],
 "metadata": {
  "kernelspec": {
   "display_name": "Python 3 (ipykernel)",
   "language": "python",
   "name": "python3"
  },
  "language_info": {
   "codemirror_mode": {
    "name": "ipython",
    "version": 3
   },
   "file_extension": ".py",
   "mimetype": "text/x-python",
   "name": "python",
   "nbconvert_exporter": "python",
   "pygments_lexer": "ipython3",
   "version": "3.11.5"
  }
 },
 "nbformat": 4,
 "nbformat_minor": 5
}
